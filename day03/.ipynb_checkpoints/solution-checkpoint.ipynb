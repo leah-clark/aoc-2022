{
 "cells": [
  {
   "cell_type": "markdown",
   "id": "526e7cd4-b5c4-43d7-899a-6a60292c1520",
   "metadata": {},
   "source": [
    "--- Day 3: Rucksack Reorganization ---\n",
    "\n",
    "One Elf has the important job of loading all of the rucksacks with supplies for the jungle journey. Unfortunately, that Elf didn't quite follow the packing instructions, and so a few items now need to be rearranged.\n",
    "\n",
    "Each rucksack has two large compartments. All items of a given type are meant to go into exactly one of the two compartments. The Elf that did the packing failed to follow this rule for exactly one item type per rucksack.\n",
    "\n",
    "The Elves have made a list of all of the items currently in each rucksack (your puzzle input), but they need your help finding the errors. Every item type is identified by a single lowercase or uppercase letter (that is, a and A refer to different types of items).\n",
    "\n",
    "The list of items for each rucksack is given as characters all on a single line. A given rucksack always has the same number of items in each of its two compartments, so the first half of the characters represent items in the first compartment, while the second half of the characters represent items in the second compartment.\n",
    "\n",
    "For example, suppose you have the following list of contents from six rucksacks:\n",
    "\n",
    "    vJrwpWtwJgWrhcsFMMfFFhFp\n",
    "    jqHRNqRjqzjGDLGLrsFMfFZSrLrFZsSL\n",
    "    PmmdzqPrVvPwwTWBwg\n",
    "    wMqvLMZHhHMvwLHjbvcjnnSBnvTQFn\n",
    "    ttgJtRGJQctTZtZT\n",
    "    CrZsJsPPZsGzwwsLwLmpwMDw\n",
    "\n",
    "The first rucksack contains the items vJrwpWtwJgWrhcsFMMfFFhFp, which means its first compartment contains the items vJrwpWtwJgWr, while the second compartment contains the items hcsFMMfFFhFp. The only item type that appears in both compartments is lowercase p.\n",
    "The second rucksack's compartments contain jqHRNqRjqzjGDLGL and rsFMfFZSrLrFZsSL. The only item type that appears in both compartments is uppercase L.\n",
    "The third rucksack's compartments contain PmmdzqPrV and vPwwTWBwg; the only common item type is uppercase P.\n",
    "The fourth rucksack's compartments only share item type v.\n",
    "The fifth rucksack's compartments only share item type t.\n",
    "The sixth rucksack's compartments only share item type s.\n",
    "To help prioritize item rearrangement, every item type can be converted to a priority:\n",
    "\n",
    "Lowercase item types a through z have priorities 1 through 26.\n",
    "Uppercase item types A through Z have priorities 27 through 52.\n",
    "In the above example, the priority of the item type that appears in both compartments of each rucksack is 16 (p), 38 (L), 42 (P), 22 (v), 20 (t), and 19 (s); the sum of these is 157.\n",
    "\n",
    "Find the item type that appears in both compartments of each rucksack. What is the sum of the priorities of those item types?"
   ]
  },
  {
   "cell_type": "code",
   "execution_count": 3,
   "id": "a49601cb-6898-41cb-97f1-027a930f8545",
   "metadata": {},
   "outputs": [],
   "source": [
    "priorities = {\n",
    "\"a\": 1, \"b\": 2, \"c\": 3, \"d\": 4, \"e\": 5, \"f\": 6, \"g\": 7, \"h\": 8, \"i\": 9, \"j\": 10, \"k\": 11, \"l\": 12, \"m\": 13, \"n\": 14, \"o\": 15, \n",
    "\"p\": 16, \"q\": 17, \"r\": 18, \"s\": 19, \"t\": 20, \"u\": 21, \"v\": 22, \"w\": 23, \"x\": 24, \"y\": 25, \"z\": 26, \"A\": 27, \"B\": 28, \"C\": 29, \n",
    "\"D\": 30, \"E\": 31, \"F\": 32, \"G\": 33, \"H\": 34, \"I\": 35, \"J\": 36, \"K\": 37, \"L\": 38, \"M\": 39, \"N\": 40, \"O\": 41, \"P\": 42, \"Q\": 43,\n",
    "\"R\": 44, \"S\": 45, \"T\": 46, \"U\": 47, \"V\": 48, \"W\": 49, \"X\": 50, \"Y\": 51, \"Z\": 52\n",
    "}\n"
   ]
  },
  {
   "cell_type": "code",
   "execution_count": 39,
   "id": "772ac208-ae5b-447a-8104-7de8ab0d8d0a",
   "metadata": {},
   "outputs": [],
   "source": [
    "def read_data():\n",
    "    file1 = open('data.txt', 'r') \n",
    "    Lines = file1.readlines()\n",
    "    rucksacks = []\n",
    "    for line in Lines:\n",
    "        rucksack = []\n",
    "        line = line.rstrip('\\n')\n",
    "        compartment_1 = line[:len(line)//2]\n",
    "        compartment_2 = line[len(line)//2:]\n",
    "        rucksack.append(compartment_1)\n",
    "        rucksack.append(compartment_2)\n",
    "        rucksacks.append(rucksack)\n",
    "    return rucksacks\n",
    "     "
   ]
  },
  {
   "cell_type": "code",
   "execution_count": 41,
   "id": "b4b5e4d8-50a5-48e6-a48c-57ad98180516",
   "metadata": {},
   "outputs": [
    {
     "name": "stdout",
     "output_type": "stream",
     "text": [
      "Part one answer: 7980\n"
     ]
    }
   ],
   "source": [
    "rucksacks = read_data()\n",
    "\n",
    "def find_letter(compartment_1, compartment_2):\n",
    "    for first_letter in rucksack[0]:\n",
    "        for second_letter in rucksack[1]:\n",
    "            if first_letter == second_letter:\n",
    "                return priorities[first_letter]\n",
    "                \n",
    "\n",
    "total = 0\n",
    "for rucksack in rucksacks:\n",
    "    total = total + find_letter(rucksack[0], rucksack[1])\n",
    "\n",
    "print(\"Part one answer: \" + str(total))"
   ]
  },
  {
   "cell_type": "code",
   "execution_count": null,
   "id": "c77cf112-80b9-47d5-89f2-dcda9d17c53a",
   "metadata": {},
   "outputs": [],
   "source": []
  }
 ],
 "metadata": {
  "kernelspec": {
   "display_name": "Python 3 (ipykernel)",
   "language": "python",
   "name": "python3"
  },
  "language_info": {
   "codemirror_mode": {
    "name": "ipython",
    "version": 3
   },
   "file_extension": ".py",
   "mimetype": "text/x-python",
   "name": "python",
   "nbconvert_exporter": "python",
   "pygments_lexer": "ipython3",
   "version": "3.10.4"
  }
 },
 "nbformat": 4,
 "nbformat_minor": 5
}
