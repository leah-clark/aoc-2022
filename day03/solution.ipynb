{
 "cells": [
  {
   "cell_type": "markdown",
   "id": "526e7cd4-b5c4-43d7-899a-6a60292c1520",
   "metadata": {},
   "source": [
    "--- Day 3: Rucksack Reorganization ---\n",
    "\n",
    "One Elf has the important job of loading all of the rucksacks with supplies for the jungle journey. Unfortunately, that Elf didn't quite follow the packing instructions, and so a few items now need to be rearranged.\n",
    "\n",
    "Each rucksack has two large compartments. All items of a given type are meant to go into exactly one of the two compartments. The Elf that did the packing failed to follow this rule for exactly one item type per rucksack.\n",
    "\n",
    "The Elves have made a list of all of the items currently in each rucksack (your puzzle input), but they need your help finding the errors. Every item type is identified by a single lowercase or uppercase letter (that is, a and A refer to different types of items).\n",
    "\n",
    "The list of items for each rucksack is given as characters all on a single line. A given rucksack always has the same number of items in each of its two compartments, so the first half of the characters represent items in the first compartment, while the second half of the characters represent items in the second compartment.\n",
    "\n",
    "For example, suppose you have the following list of contents from six rucksacks:\n",
    "\n",
    "    vJrwpWtwJgWrhcsFMMfFFhFp\n",
    "    jqHRNqRjqzjGDLGLrsFMfFZSrLrFZsSL\n",
    "    PmmdzqPrVvPwwTWBwg\n",
    "    wMqvLMZHhHMvwLHjbvcjnnSBnvTQFn\n",
    "    ttgJtRGJQctTZtZT\n",
    "    CrZsJsPPZsGzwwsLwLmpwMDw\n",
    "\n",
    "The first rucksack contains the items vJrwpWtwJgWrhcsFMMfFFhFp, which means its first compartment contains the items vJrwpWtwJgWr, while the second compartment contains the items hcsFMMfFFhFp. The only item type that appears in both compartments is lowercase p.\n",
    "The second rucksack's compartments contain jqHRNqRjqzjGDLGL and rsFMfFZSrLrFZsSL. The only item type that appears in both compartments is uppercase L.\n",
    "The third rucksack's compartments contain PmmdzqPrV and vPwwTWBwg; the only common item type is uppercase P.\n",
    "The fourth rucksack's compartments only share item type v.\n",
    "The fifth rucksack's compartments only share item type t.\n",
    "The sixth rucksack's compartments only share item type s.\n",
    "To help prioritize item rearrangement, every item type can be converted to a priority:\n",
    "\n",
    "Lowercase item types a through z have priorities 1 through 26.\n",
    "Uppercase item types A through Z have priorities 27 through 52.\n",
    "In the above example, the priority of the item type that appears in both compartments of each rucksack is 16 (p), 38 (L), 42 (P), 22 (v), 20 (t), and 19 (s); the sum of these is 157.\n",
    "\n",
    "Find the item type that appears in both compartments of each rucksack. What is the sum of the priorities of those item types?"
   ]
  },
  {
   "cell_type": "code",
   "execution_count": 3,
   "id": "a49601cb-6898-41cb-97f1-027a930f8545",
   "metadata": {},
   "outputs": [],
   "source": [
    "priorities = {\n",
    "\"a\": 1, \"b\": 2, \"c\": 3, \"d\": 4, \"e\": 5, \"f\": 6, \"g\": 7, \"h\": 8, \"i\": 9, \"j\": 10, \"k\": 11, \"l\": 12, \"m\": 13, \"n\": 14, \"o\": 15, \n",
    "\"p\": 16, \"q\": 17, \"r\": 18, \"s\": 19, \"t\": 20, \"u\": 21, \"v\": 22, \"w\": 23, \"x\": 24, \"y\": 25, \"z\": 26, \"A\": 27, \"B\": 28, \"C\": 29, \n",
    "\"D\": 30, \"E\": 31, \"F\": 32, \"G\": 33, \"H\": 34, \"I\": 35, \"J\": 36, \"K\": 37, \"L\": 38, \"M\": 39, \"N\": 40, \"O\": 41, \"P\": 42, \"Q\": 43,\n",
    "\"R\": 44, \"S\": 45, \"T\": 46, \"U\": 47, \"V\": 48, \"W\": 49, \"X\": 50, \"Y\": 51, \"Z\": 52\n",
    "}\n"
   ]
  },
  {
   "cell_type": "code",
   "execution_count": 39,
   "id": "772ac208-ae5b-447a-8104-7de8ab0d8d0a",
   "metadata": {},
   "outputs": [],
   "source": [
    "def read_data():\n",
    "    file1 = open('data.txt', 'r') \n",
    "    Lines = file1.readlines()\n",
    "    rucksacks = []\n",
    "    for line in Lines:\n",
    "        rucksack = []\n",
    "        line = line.rstrip('\\n')\n",
    "        compartment_1 = line[:len(line)//2]\n",
    "        compartment_2 = line[len(line)//2:]\n",
    "        rucksack.append(compartment_1)\n",
    "        rucksack.append(compartment_2)\n",
    "        rucksacks.append(rucksack)\n",
    "    return rucksacks\n",
    "     "
   ]
  },
  {
   "cell_type": "code",
   "execution_count": 93,
   "id": "b4b5e4d8-50a5-48e6-a48c-57ad98180516",
   "metadata": {},
   "outputs": [
    {
     "name": "stdout",
     "output_type": "stream",
     "text": [
      "Part one answer: 7980\n"
     ]
    }
   ],
   "source": [
    "rucksacks = read_data()\n",
    "\n",
    "def find_letter(compartment_1, compartment_2):\n",
    "    for first_letter in compartment_1:\n",
    "        for second_letter in compartment_2:\n",
    "            if first_letter == second_letter:\n",
    "                return priorities[first_letter]\n",
    "                \n",
    "\n",
    "def find_total(rucksacks):\n",
    "    total = 0\n",
    "    for rucksack in rucksacks:\n",
    "        total = total + find_letter(rucksack[0], rucksack[1])\n",
    "    return total\n",
    "\n",
    "print(\"Part one answer: \" + str(find_total(rucksacks)))"
   ]
  },
  {
   "cell_type": "markdown",
   "id": "47f50a61-56fd-449a-ad45-18bef83ee5cd",
   "metadata": {},
   "source": [
    "--- Part Two ---\n",
    "\n",
    "As you finish identifying the misplaced items, the Elves come to you with another issue.\n",
    "\n",
    "For safety, the Elves are divided into groups of three. Every Elf carries a badge that identifies their group. For efficiency, within each group of three Elves, the badge is the only item type carried by all three Elves. That is, if a group's badge is item type B, then all three Elves will have item type B somewhere in their rucksack, and at most two of the Elves will be carrying any other item type.\n",
    "\n",
    "The problem is that someone forgot to put this year's updated authenticity sticker on the badges. All of the badges need to be pulled out of the rucksacks so the new authenticity stickers can be attached.\n",
    "\n",
    "Additionally, nobody wrote down which item type corresponds to each group's badges. The only way to tell which item type is the right one is by finding the one item type that is common between all three Elves in each group.\n",
    "\n",
    "Every set of three lines in your list corresponds to a single group, but each group can have a different badge item type. So, in the above example, the first group's rucksacks are the first three lines:\n",
    "\n",
    "    vJrwpWtwJgWrhcsFMMfFFhFp\n",
    "    jqHRNqRjqzjGDLGLrsFMfFZSrLrFZsSL\n",
    "    PmmdzqPrVvPwwTWBwg\n",
    "\n",
    "And the second group's rucksacks are the next three lines:\n",
    "\n",
    "    wMqvLMZHhHMvwLHjbvcjnnSBnvTQFn\n",
    "    ttgJtRGJQctTZtZT\n",
    "    CrZsJsPPZsGzwwsLwLmpwMDw\n",
    "\n",
    "In the first group, the only item type that appears in all three rucksacks is lowercase r; this must be their badges. In the second group, their badge item type must be Z.\n",
    "\n",
    "Priorities for these items must still be found to organize the sticker attachment efforts: here, they are 18 (r) for the first group and 52 (Z) for the second group. The sum of these is 70.\n",
    "\n",
    "Find the item type that corresponds to the badges of each three-Elf group. What is the sum of the priorities of those item types?"
   ]
  },
  {
   "cell_type": "code",
   "execution_count": 95,
   "id": "d58e6fba-9f67-4e26-ab4c-59acfeb233ad",
   "metadata": {},
   "outputs": [],
   "source": [
    "def read_data_part_2():\n",
    "    file1 = open('data.txt', 'r') \n",
    "    Lines = file1.readlines()\n",
    "    rucksacks = []\n",
    "    rucksack = []\n",
    "    acc = 0\n",
    "    for line in Lines:\n",
    "        acc = acc+1\n",
    "        line = line.rstrip('\\n')\n",
    "        rucksack.append(line)\n",
    "        if (acc == 3):\n",
    "            rucksacks.append(rucksack)\n",
    "            rucksack = []\n",
    "            acc = 0\n",
    "    return rucksacks"
   ]
  },
  {
   "cell_type": "code",
   "execution_count": 100,
   "id": "0bcf0a33-1000-44e0-81a4-36c34d87d8dd",
   "metadata": {},
   "outputs": [
    {
     "name": "stdout",
     "output_type": "stream",
     "text": [
      "Part two answer: 2881\n"
     ]
    }
   ],
   "source": [
    "rucksacks = read_data_part_2()\n",
    "\n",
    "def find_letter(compartment_1, compartment_2, compartment_3):\n",
    "    for first_letter in compartment_1:\n",
    "        for second_letter in compartment_2:\n",
    "            for third_letter in compartment_3:\n",
    "                if first_letter == second_letter == third_letter:\n",
    "                    return priorities[first_letter]\n",
    "                \n",
    "\n",
    "def find_total(rucksacks):\n",
    "    total = 0\n",
    "    for rucksack in rucksacks:\n",
    "        total = total + find_letter(rucksack[0], rucksack[1], rucksack[2])\n",
    "    return total\n",
    "\n",
    "print(\"Part two answer: \" + str(find_total(rucksacks)))"
   ]
  },
  {
   "cell_type": "code",
   "execution_count": null,
   "id": "2cf2f808-8b87-4736-acb5-b78029027906",
   "metadata": {},
   "outputs": [],
   "source": []
  }
 ],
 "metadata": {
  "kernelspec": {
   "display_name": "Python 3 (ipykernel)",
   "language": "python",
   "name": "python3"
  },
  "language_info": {
   "codemirror_mode": {
    "name": "ipython",
    "version": 3
   },
   "file_extension": ".py",
   "mimetype": "text/x-python",
   "name": "python",
   "nbconvert_exporter": "python",
   "pygments_lexer": "ipython3",
   "version": "3.10.4"
  }
 },
 "nbformat": 4,
 "nbformat_minor": 5
}
