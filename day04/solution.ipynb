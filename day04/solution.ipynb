{
 "cells": [
  {
   "cell_type": "markdown",
   "id": "36633e81-9616-4254-b922-f591531d03e3",
   "metadata": {},
   "source": [
    "--- Day 4: Camp Cleanup ---\n",
    "\n",
    "Space needs to be cleared before the last supplies can be unloaded from the ships, and so several Elves have been assigned the job of cleaning up sections of the camp. Every section has a unique ID number, and each Elf is assigned a range of section IDs.\n",
    "\n",
    "However, as some of the Elves compare their section assignments with each other, they've noticed that many of the assignments overlap. To try to quickly find overlaps and reduce duplicated effort, the Elves pair up and make a big list of the section assignments for each pair (your puzzle input).\n",
    "\n",
    "For example, consider the following list of section assignment pairs:\n",
    "\n",
    "    2-4,6-8\n",
    "    2-3,4-5\n",
    "    5-7,7-9\n",
    "    2-8,3-7\n",
    "    6-6,4-6\n",
    "    2-6,4-8\n",
    "\n",
    "For the first few pairs, this list means:\n",
    "\n",
    "Within the first pair of Elves, the first Elf was assigned sections 2-4 (sections 2, 3, and 4), while the second Elf was assigned sections 6-8 (sections 6, 7, 8).\n",
    "The Elves in the second pair were each assigned two sections.\n",
    "The Elves in the third pair were each assigned three sections: one got sections 5, 6, and 7, while the other also got 7, plus 8 and 9.\n",
    "This example list uses single-digit section IDs to make it easier to draw; your actual list might contain larger numbers. Visually, these pairs of section assignments look like this:\n",
    "\n",
    "    .234.....  2-4\n",
    "    .....678.  6-8\n",
    "\n",
    "    .23......  2-3\n",
    "    ...45....  4-5\n",
    "\n",
    "    ....567..  5-7\n",
    "    ......789  7-9\n",
    "\n",
    "    .2345678.  2-8\n",
    "    ..34567..  3-7\n",
    "\n",
    "    .....6...  6-6\n",
    "    ...456...  4-6\n",
    "\n",
    "    .23456...  2-6\n",
    "    ...45678.  4-8\n",
    "\n",
    "Some of the pairs have noticed that one of their assignments fully contains the other. For example, 2-8 fully contains 3-7, and 6-6 is fully contained by 4-6. In pairs where one assignment fully contains the other, one Elf in the pair would be exclusively cleaning sections their partner will already be cleaning, so these seem like the most in need of reconsideration. In this example, there are 2 such pairs.\n",
    "\n",
    "In how many assignment pairs does one range fully contain the other?"
   ]
  },
  {
   "cell_type": "code",
   "execution_count": 35,
   "id": "3b7507b4-6b88-495e-a996-f4eaea12cb37",
   "metadata": {},
   "outputs": [
    {
     "name": "stdout",
     "output_type": "stream",
     "text": [
      "Part one answer: 453\n"
     ]
    }
   ],
   "source": [
    "def count_containments():\n",
    "    file1 = open('data.txt', 'r') \n",
    "    Lines = file1.readlines()\n",
    "    count = 0\n",
    "    for line in Lines:\n",
    "        line = line.rstrip('\\n').split(',')\n",
    "        if (isContained(line[0], line[1])):\n",
    "            count = count+1\n",
    "    return count\n",
    "\n",
    "def isContained(range1, range2):\n",
    "    range1_split = range1.split('-')\n",
    "    range2_split = range2.split('-')\n",
    "    if (int(range1_split[0]) <= int(range2_split[0]) and int(range1_split[-1]) >= int(range2_split[-1])):\n",
    "        return True\n",
    "    if (int(range2_split[0]) <= int(range1_split[0]) and int(range2_split[-1]) >= int(range1_split[-1])):\n",
    "        return True\n",
    "    return False\n",
    "\n",
    "print(\"Part one answer: \" + str(count_containments()))"
   ]
  },
  {
   "cell_type": "markdown",
   "id": "74a99d62-b445-4516-911d-f758fe2b1950",
   "metadata": {},
   "source": [
    "--- Part Two ---\n",
    "\n",
    "It seems like there is still quite a bit of duplicate work planned. Instead, the Elves would like to know the number of pairs that overlap at all.\n",
    "\n",
    "In the above example, the first two pairs (2-4,6-8 and 2-3,4-5) don't overlap, while the remaining four pairs (5-7,7-9, 2-8,3-7, 6-6,4-6, and 2-6,4-8) do overlap:\n",
    "\n",
    "    5-7,7-9 overlaps in a single section, 7.\n",
    "    2-8,3-7 overlaps all of the sections 3 through 7.\n",
    "    6-6,4-6 overlaps in a single section, 6.\n",
    "    2-6,4-8 overlaps in sections 4, 5, and 6.\n",
    "    So, in this example, the number of overlapping assignment pairs is 4.\n",
    "\n",
    "In how many assignment pairs do the ranges overlap?"
   ]
  },
  {
   "cell_type": "code",
   "execution_count": 53,
   "id": "8f7d5399-e704-4d44-98b0-db99a9151175",
   "metadata": {},
   "outputs": [
    {
     "name": "stdout",
     "output_type": "stream",
     "text": [
      "Part one answer: 919\n"
     ]
    }
   ],
   "source": [
    "def isNotContained(range1, range2):\n",
    "    range1_split = range1.split('-')\n",
    "    range2_split = range2.split('-')\n",
    "    if (int(range1_split[-1]) < int(range2_split[0])):\n",
    "        return True\n",
    "    if (int(range2_split[-1]) < int(range1_split[0])):\n",
    "        return True\n",
    "    return False\n",
    "\n",
    "def count_containments():\n",
    "    file1 = open('data.txt', 'r') \n",
    "    Lines = file1.readlines()\n",
    "    count = 0\n",
    "    total_pairs = 0\n",
    "    for line in Lines:\n",
    "        total_pairs = total_pairs + 1\n",
    "        line = line.rstrip('\\n').split(',')\n",
    "        if (isNotContained(line[0], line[1])):\n",
    "            count = count+1\n",
    "    return total_pairs - count\n",
    "\n",
    "print(\"Part two answer: \" + str(count_containments()))"
   ]
  },
  {
   "cell_type": "code",
   "execution_count": null,
   "id": "296c2da9-624e-4641-b3eb-3b3ebe3de859",
   "metadata": {},
   "outputs": [],
   "source": []
  }
 ],
 "metadata": {
  "kernelspec": {
   "display_name": "Python 3 (ipykernel)",
   "language": "python",
   "name": "python3"
  },
  "language_info": {
   "codemirror_mode": {
    "name": "ipython",
    "version": 3
   },
   "file_extension": ".py",
   "mimetype": "text/x-python",
   "name": "python",
   "nbconvert_exporter": "python",
   "pygments_lexer": "ipython3",
   "version": "3.10.4"
  }
 },
 "nbformat": 4,
 "nbformat_minor": 5
}
