{
 "cells": [
  {
   "cell_type": "markdown",
   "id": "be8cb75e-10c0-4344-b393-73bf1ce05d6d",
   "metadata": {},
   "source": [
    "--- Day 5: Supply Stacks ---\n",
    "\n",
    "The expedition can depart as soon as the final supplies have been unloaded from the ships. Supplies are stored in stacks of marked crates, but because the needed supplies are buried under many other crates, the crates need to be rearranged.\n",
    "\n",
    "The ship has a giant cargo crane capable of moving crates between stacks. To ensure none of the crates get crushed or fall over, the crane operator will rearrange them in a series of carefully-planned steps. After the crates are rearranged, the desired crates will be at the top of each stack.\n",
    "\n",
    "The Elves don't want to interrupt the crane operator during this delicate procedure, but they forgot to ask her which crate will end up where, and they want to be ready to unload them as soon as possible so they can embark.\n",
    "\n",
    "They do, however, have a drawing of the starting stacks of crates and the rearrangement procedure (your puzzle input). For example:\n",
    "\n",
    "        [D]    \n",
    "    [N] [C]    \n",
    "    [Z] [M] [P]\n",
    "     1   2   3 \n",
    "\n",
    "    move 1 from 2 to 1\n",
    "    move 3 from 1 to 3\n",
    "    move 2 from 2 to 1\n",
    "    move 1 from 1 to 2\n",
    "    \n",
    "In this example, there are three stacks of crates. Stack 1 contains two crates: crate Z is on the bottom, and crate N is on top. Stack 2 contains three crates; from bottom to top, they are crates M, C, and D. Finally, stack 3 contains a single crate, P.\n",
    "\n",
    "Then, the rearrangement procedure is given. In each step of the procedure, a quantity of crates is moved from one stack to a different stack. In the first step of the above rearrangement procedure, one crate is moved from stack 2 to stack 1, resulting in this configuration:\n",
    "\n",
    "    [D]        \n",
    "    [N] [C]    \n",
    "    [Z] [M] [P]\n",
    "     1   2   3 \n",
    "     \n",
    "In the second step, three crates are moved from stack 1 to stack 3. Crates are moved one at a time, so the first crate to be moved (D) ends up below the second and third crates:\n",
    "\n",
    "        [Z]\n",
    "        [N]\n",
    "    [C] [D]\n",
    "    [M] [P]\n",
    " 1   2   3\n",
    "Then, both crates are moved from stack 2 to stack 1. Again, because crates are moved one at a time, crate C ends up below crate M:\n",
    "\n",
    "            [Z]\n",
    "            [N]\n",
    "    [M]     [D]\n",
    "    [C]     [P]\n",
    "     1   2   3\n",
    "     \n",
    "Finally, one crate is moved from stack 1 to stack 2:\n",
    "\n",
    "            [Z]\n",
    "            [N]\n",
    "            [D]\n",
    "    [C] [M] [P]\n",
    "     1   2   3\n",
    "     \n",
    "The Elves just need to know which crate will end up on top of each stack; in this example, the top crates are C in stack 1, M in stack 2, and Z in stack 3, so you should combine these together and give the Elves the message CMZ.\n",
    "\n",
    "After the rearrangement procedure completes, what crate ends up on top of each stack?\n",
    "\n"
   ]
  },
  {
   "cell_type": "code",
   "execution_count": 280,
   "id": "b01bd099-66ae-43f5-bf81-b236c0462ad9",
   "metadata": {},
   "outputs": [],
   "source": [
    "import re\n",
    "    \n",
    "def parse_stack(data, number_of_stacks, elements_in_stack, len_of_data):\n",
    "    arr = [[' ' for x in range(elements_in_stack)] for y in range(number_of_stacks)]\n",
    "    x=0\n",
    "    for line in reversed(data):\n",
    "        y = 0\n",
    "        for i in range(1,len_of_data, 4):\n",
    "            if(line[0][i] == ' '):\n",
    "                arr[y].remove(line[0][i])\n",
    "            else:\n",
    "                arr[y][x] = line[0][i]\n",
    "            y = y + 1\n",
    "        x = x + 1\n",
    "    return arr\n",
    "        \n",
    "def parse_rearrangement(data):\n",
    "    moves = []\n",
    "    for instructions in data:\n",
    "        moves.append(re.findall(r'\\d+', instructions[0]))\n",
    "    return moves\n",
    "\n",
    "def parse_file():\n",
    "    file1 = open('data.txt', 'r') \n",
    "    Lines = file1.readlines()\n",
    "    data = []\n",
    "    count = 0\n",
    "    for line in Lines:\n",
    "        line = line.rstrip('\\n').split(',')\n",
    "        data.append(line)\n",
    "        count = count + 1\n",
    "        if line == [' ']:\n",
    "            len_of_data = len(data[-2][-1])\n",
    "            number_of_stacks = data[-2][-1][-2]\n",
    "            elements_in_stack = count - 2\n",
    "            arr = parse_stack(data[:-2], int(number_of_stacks), int(elements_in_stack), int(len_of_data))\n",
    "            data = []\n",
    "    moves = parse_rearrangement(data)\n",
    "    return stacks, moves, num_of_stacks\n"
   ]
  },
  {
   "cell_type": "code",
   "execution_count": 281,
   "id": "bd825d40-43ba-4905-a369-c979af067cc9",
   "metadata": {},
   "outputs": [],
   "source": [
    "stacks, moves, num_of_stacks = parse_file()"
   ]
  },
  {
   "cell_type": "code",
   "execution_count": 283,
   "id": "191560db-9321-4232-820f-2894f7ae9208",
   "metadata": {},
   "outputs": [
    {
     "data": {
      "text/plain": [
       "[['C'], ['M'], ['P', 'D', 'N', 'Z']]"
      ]
     },
     "execution_count": 283,
     "metadata": {},
     "output_type": "execute_result"
    }
   ],
   "source": [
    "stacks, moves, num_of_stacks = parse_file()\n",
    "\n",
    "def move_crane(stacks):\n",
    "    for move in moves:\n",
    "        how_many_moves = int(move[0])\n",
    "        from_where = int(move[1])-1\n",
    "        to_where = int(move[2])-1\n",
    "        while(how_many_moves > 0):\n",
    "            moved_item = stacks[from_where].pop()\n",
    "            stacks[to_where].append(moved_item)\n",
    "            how_many_moves = how_many_moves - 1\n",
    "    return stacks\n",
    "\n",
    "move_crane(stacks)\n",
    "\n"
   ]
  },
  {
   "cell_type": "code",
   "execution_count": 282,
   "id": "a9472542-b1ef-4c77-a5b2-363d0a0a2099",
   "metadata": {},
   "outputs": [
    {
     "data": {
      "text/plain": [
       "[['Z', 'N'], ['M', 'C', 'D'], ['P']]"
      ]
     },
     "execution_count": 282,
     "metadata": {},
     "output_type": "execute_result"
    }
   ],
   "source": [
    "stacks"
   ]
  },
  {
   "cell_type": "code",
   "execution_count": null,
   "id": "da507a1c-c308-4512-8daa-6a7ef560b9dc",
   "metadata": {},
   "outputs": [],
   "source": []
  }
 ],
 "metadata": {
  "kernelspec": {
   "display_name": "Python 3 (ipykernel)",
   "language": "python",
   "name": "python3"
  },
  "language_info": {
   "codemirror_mode": {
    "name": "ipython",
    "version": 3
   },
   "file_extension": ".py",
   "mimetype": "text/x-python",
   "name": "python",
   "nbconvert_exporter": "python",
   "pygments_lexer": "ipython3",
   "version": "3.10.4"
  }
 },
 "nbformat": 4,
 "nbformat_minor": 5
}
